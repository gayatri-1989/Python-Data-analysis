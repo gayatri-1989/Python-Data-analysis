{
 "cells": [
  {
   "cell_type": "code",
   "execution_count": null,
   "metadata": {},
   "outputs": [],
   "source": [
    "import pandas as pd\n",
    "from pandas_profiling import ProfileReport         \n",
    "import numpy as np\n",
    "import sys \n",
    "from sklearn import metrics\n",
    "\n",
    "np.set_printoptions(precision=4)\n",
    "\n",
    "pd.set_option('mode.chained_assignment', None)      # To suppress pandas warnings.\n",
    "pd.set_option('display.max_colwidth', None)           # To display all the data in each column\n",
    "pd.options.display.max_columns = 50                 # To display every column of the dataset in head()\n",
    "\n",
    "import matplotlib.pyplot as plt\n",
    "plt.style.use('seaborn-whitegrid')                  # To apply seaborn whitegrid style to the plots.\n",
    "%matplotlib inline\n",
    "\n",
    "import seaborn as sns\n",
    "sns.set(style='whitegrid', font_scale=1.3, color_codes=True)      # To adjust seaborn settings for the plots.\n",
    "\n",
    "import warnings\n",
    "warnings.filterwarnings('ignore')                   # To suppress all the warnings in the notebook.\n",
    "\n",
    "import mysql.connector as connection\n"
   ]
  },
  {
   "cell_type": "code",
   "execution_count": 14,
   "metadata": {},
   "outputs": [
    {
     "name": "stdout",
     "output_type": "stream",
     "text": [
      "Requirement already satisfied: mysql-connector-python in /opt/anaconda3/lib/python3.8/site-packages (8.0.26)\n",
      "Requirement already satisfied: protobuf>=3.0.0 in /opt/anaconda3/lib/python3.8/site-packages (from mysql-connector-python) (3.18.1)\n",
      "Note: you may need to restart the kernel to use updated packages.\n"
     ]
    }
   ],
   "source": [
    "pip install mysql-connector-python"
   ]
  },
  {
   "cell_type": "code",
   "execution_count": 21,
   "metadata": {},
   "outputs": [],
   "source": [
    "def SqlConnection():\n",
    "    return mysql.connector.connect(  host=\"cpanel.insaid.co\",  user=\"student\",  password=\"student\",  database=\"Capstone2\")\n",
    "    #query=\"select * from department_data;\"\n",
    "    #cursor = connection.cursor()\n",
    "    #result = cursor.execute(mySql_Create_Table_Query)\n",
    "    #print(\"Laptop Table created successfully \")\n",
    "\n",
    "#except mysql.connector.Error as error:\n",
    "    #print(\"Failed to create table in MySQL: {}\".format(error))\n",
    "#finally:\n",
    "    #if connection.is_connected():\n",
    "        #cursor.close()\n",
    "        #connection.close()\n",
    "        #print(\"MySQL connection is closed\")"
   ]
  },
  {
   "cell_type": "code",
   "execution_count": 23,
   "metadata": {},
   "outputs": [],
   "source": [
    "dept_data = pd.read_sql('SELECT * FROM department_data', con=SqlConnection())\n",
    "details_data = pd.read_sql('SELECT * FROM employee_details_data', con=SqlConnection())\n",
    "emp_data  = pd.read_sql('SELECT * FROM employee_data', con=SqlConnection())"
   ]
  },
  {
   "cell_type": "code",
   "execution_count": 25,
   "metadata": {},
   "outputs": [
    {
     "name": "stdout",
     "output_type": "stream",
     "text": [
      "<class 'pandas.core.frame.DataFrame'>\n",
      "RangeIndex: 11 entries, 0 to 10\n",
      "Data columns (total 3 columns):\n",
      " #   Column     Non-Null Count  Dtype \n",
      "---  ------     --------------  ----- \n",
      " 0   dept_id    11 non-null     object\n",
      " 1   dept_name  11 non-null     object\n",
      " 2   dept_head  11 non-null     object\n",
      "dtypes: object(3)\n",
      "memory usage: 392.0+ bytes\n"
     ]
    }
   ],
   "source": [
    "dept_data.info()"
   ]
  },
  {
   "cell_type": "code",
   "execution_count": null,
   "metadata": {},
   "outputs": [],
   "source": []
  }
 ],
 "metadata": {
  "kernelspec": {
   "display_name": "Python 3",
   "language": "python",
   "name": "python3"
  },
  "language_info": {
   "codemirror_mode": {
    "name": "ipython",
    "version": 3
   },
   "file_extension": ".py",
   "mimetype": "text/x-python",
   "name": "python",
   "nbconvert_exporter": "python",
   "pygments_lexer": "ipython3",
   "version": "3.8.5"
  }
 },
 "nbformat": 4,
 "nbformat_minor": 4
}
