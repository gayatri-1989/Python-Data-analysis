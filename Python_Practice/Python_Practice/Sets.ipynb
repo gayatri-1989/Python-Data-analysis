{
 "cells": [
  {
   "cell_type": "code",
   "execution_count": 4,
   "metadata": {},
   "outputs": [
    {
     "name": "stdout",
     "output_type": "stream",
     "text": [
      "{1, 2, 3, 4.3, 'g'}\n"
     ]
    }
   ],
   "source": [
    "# sets\n",
    "# unordered collection of items and are mutable, does not allow duplicate\n",
    "\n",
    "myset={1,2,3,4.3,'g',1}\n",
    "\n",
    "print(myset)"
   ]
  },
  {
   "cell_type": "code",
   "execution_count": 7,
   "metadata": {},
   "outputs": [
    {
     "name": "stdout",
     "output_type": "stream",
     "text": [
      "{1, 2, 3, 4.3, 5, 6, 7, 'g'}\n",
      "{1, 2, 3, 4.3, 5, 6, 7, 'g'}\n"
     ]
    }
   ],
   "source": [
    "#add element\n",
    "\n",
    "myset.add(5)\n",
    "print(myset)\n",
    "\n",
    "myset.update({3,6,7})\n",
    "print(myset)"
   ]
  },
  {
   "cell_type": "code",
   "execution_count": null,
   "metadata": {},
   "outputs": [],
   "source": [
    "#removing\n",
    "\n",
    "remove()\n",
    "discard()\n",
    "pop()  #it will pop random value\n",
    "clear() #clears the whole set without deleting it\n"
   ]
  },
  {
   "cell_type": "code",
   "execution_count": null,
   "metadata": {},
   "outputs": [],
   "source": [
    "# set operations\n",
    "# union\n",
    "#intersection\n",
    "#symmetric difference\n",
    "#subset\n"
   ]
  },
  {
   "cell_type": "code",
   "execution_count": 9,
   "metadata": {},
   "outputs": [
    {
     "name": "stdout",
     "output_type": "stream",
     "text": [
      "{1, 2, 3, 4, 5, 6, 7, 8}\n"
     ]
    }
   ],
   "source": [
    "# 1 Union\n",
    "\n",
    "myset1={1,2,3,4,5,6}\n",
    "\n",
    "myset2={4,5,6,7,8}\n",
    "\n",
    "#print(myset1 | myset2)\n",
    "\n",
    "print(myset1.union(myset2))"
   ]
  },
  {
   "cell_type": "code",
   "execution_count": 11,
   "metadata": {},
   "outputs": [
    {
     "name": "stdout",
     "output_type": "stream",
     "text": [
      "{4, 5, 6}\n"
     ]
    }
   ],
   "source": [
    "# 2 Intersection\n",
    "\n",
    "#print(myset1 & myset2)\n",
    "\n",
    "print(myset1.intersection(myset2))"
   ]
  },
  {
   "cell_type": "code",
   "execution_count": 18,
   "metadata": {},
   "outputs": [
    {
     "name": "stdout",
     "output_type": "stream",
     "text": [
      "{1, 2, 3}\n",
      "{1, 2, 3, 7, 8}\n"
     ]
    }
   ],
   "source": [
    "# 3 Symmetric Differnce\n",
    "\n",
    "# only difference, values which are not present in other set\n",
    "#print(myset1-myset2)\n",
    "\n",
    "print(myset1.difference(myset2))\n",
    "\n",
    "#symmetric diff\n",
    "#set of the value in both the set except the common ones\n",
    "\n",
    "#print(myset1^myset2)\n",
    "\n",
    "print(myset2.symmetric_difference(myset1))"
   ]
  },
  {
   "cell_type": "code",
   "execution_count": 22,
   "metadata": {},
   "outputs": [
    {
     "name": "stdout",
     "output_type": "stream",
     "text": [
      "True\n"
     ]
    }
   ],
   "source": [
    "# 4 Subset\n",
    "\n",
    "myset3={1,2}\n",
    "print(myset3.issubset(myset1))"
   ]
  },
  {
   "cell_type": "code",
   "execution_count": null,
   "metadata": {},
   "outputs": [],
   "source": [
    "# Frozen sets\n",
    "\n",
    "#immutable form of sets\n",
    "\n",
    "myset1=frozenset({1,2,3,4})\n",
    "myset2=frozenset({4,5,6,7})\n",
    "\n"
   ]
  }
 ],
 "metadata": {
  "kernelspec": {
   "display_name": "Python 3",
   "language": "python",
   "name": "python3"
  },
  "language_info": {
   "codemirror_mode": {
    "name": "ipython",
    "version": 3
   },
   "file_extension": ".py",
   "mimetype": "text/x-python",
   "name": "python",
   "nbconvert_exporter": "python",
   "pygments_lexer": "ipython3",
   "version": "3.8.3"
  }
 },
 "nbformat": 4,
 "nbformat_minor": 4
}
