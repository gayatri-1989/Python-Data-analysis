{
 "cells": [
  {
   "cell_type": "code",
   "execution_count": 5,
   "metadata": {},
   "outputs": [
    {
     "name": "stdout",
     "output_type": "stream",
     "text": [
      " (1, 2, 3, 4, 5) \n",
      " ('golu', 2.3, 4, 'gayatri') \n",
      " ('a', ('b', 'c', 4), [4, 5, 6, 7, 'd'])\n"
     ]
    }
   ],
   "source": [
    "# Tuples\n",
    "\n",
    "numbertuple=(1,2,3,4,5)\n",
    "\n",
    "mixedtuple=('golu',2.3,4,'gayatri')\n",
    "\n",
    "nestedtuple=('a',('b','c',4),[4,5,6,7,'d'])\n",
    "\n",
    "print('',numbertuple,'\\n',mixedtuple,'\\n',nestedtuple)\n",
    "\n"
   ]
  },
  {
   "cell_type": "code",
   "execution_count": 11,
   "metadata": {},
   "outputs": [
    {
     "name": "stdout",
     "output_type": "stream",
     "text": [
      "4\n",
      "b\n",
      "(1, 3)\n"
     ]
    }
   ],
   "source": [
    "# Accessing elements in tuple\n",
    "\n",
    "print(mixedtuple[2])\n",
    "\n",
    "print(nestedtuple[1][0]) # access inner index in nested tuple\n",
    "\n",
    "print(numbertuple[0:4:2])"
   ]
  },
  {
   "cell_type": "code",
   "execution_count": 20,
   "metadata": {},
   "outputs": [
    {
     "name": "stdout",
     "output_type": "stream",
     "text": [
      "('a', ('b', 'c', 4), [4, 5, 6, 7, 'x'])\n",
      "(1, 2, 3, 4, 5, 'golu', 2.3, 4, 'gayatri')\n",
      "('golu', 'golu', 'golu', 'golu', 'golu')\n"
     ]
    }
   ],
   "source": [
    "# Altering the value in tuple\n",
    "\n",
    "#nestedtuple[1]='x'   #Tuples are immutable\n",
    "\n",
    "nestedtuple[2][4]='x'  #values can be replaced in list inside tuple but can't insert new valueu8\n",
    "\n",
    "print(nestedtuple)\n",
    "\n",
    "#mytuple=(1,2,3)+(4,5,6)\n",
    "\n",
    "print(numbertuple+mixedtuple)\n",
    "\n",
    "mytuple=(('golu',)*5)\n",
    "\n",
    "print(mytuple)\n",
    "\n"
   ]
  },
  {
   "cell_type": "code",
   "execution_count": 18,
   "metadata": {},
   "outputs": [
    {
     "ename": "NameError",
     "evalue": "name 'mytuple' is not defined",
     "output_type": "error",
     "traceback": [
      "\u001b[1;31m---------------------------------------------------------------------------\u001b[0m",
      "\u001b[1;31mNameError\u001b[0m                                 Traceback (most recent call last)",
      "\u001b[1;32m<ipython-input-18-ab6fa30254a6>\u001b[0m in \u001b[0;36m<module>\u001b[1;34m\u001b[0m\n\u001b[0;32m      5\u001b[0m \u001b[1;32mdel\u001b[0m \u001b[0mmytuple\u001b[0m\u001b[1;33m\u001b[0m\u001b[1;33m\u001b[0m\u001b[0m\n\u001b[0;32m      6\u001b[0m \u001b[1;33m\u001b[0m\u001b[0m\n\u001b[1;32m----> 7\u001b[1;33m \u001b[0mprint\u001b[0m\u001b[1;33m(\u001b[0m\u001b[0mmytuple\u001b[0m\u001b[1;33m)\u001b[0m\u001b[1;33m\u001b[0m\u001b[1;33m\u001b[0m\u001b[0m\n\u001b[0m",
      "\u001b[1;31mNameError\u001b[0m: name 'mytuple' is not defined"
     ]
    }
   ],
   "source": [
    "# Deleting from tuple\n",
    "\n",
    "# You can only delete entire tuple\n",
    "\n",
    "#del mytuple\n",
    "\n",
    "#\n",
    "print(mytuple)"
   ]
  },
  {
   "cell_type": "code",
   "execution_count": 29,
   "metadata": {},
   "outputs": [
    {
     "name": "stdout",
     "output_type": "stream",
     "text": [
      "5\n",
      "0\n",
      "gayatri\n",
      "15\n"
     ]
    }
   ],
   "source": [
    "#count and index\n",
    "\n",
    "print(mytuple.count('golu'))\n",
    "\n",
    "print(mixedtuple.index('golu'))\n",
    "\n",
    "print(mixedtuple[3])\n",
    "\n",
    "print(sum(numbertuple))\n",
    "\n"
   ]
  },
  {
   "cell_type": "code",
   "execution_count": null,
   "metadata": {},
   "outputs": [],
   "source": []
  }
 ],
 "metadata": {
  "kernelspec": {
   "display_name": "Python 3",
   "language": "python",
   "name": "python3"
  },
  "language_info": {
   "codemirror_mode": {
    "name": "ipython",
    "version": 3
   },
   "file_extension": ".py",
   "mimetype": "text/x-python",
   "name": "python",
   "nbconvert_exporter": "python",
   "pygments_lexer": "ipython3",
   "version": "3.8.3"
  }
 },
 "nbformat": 4,
 "nbformat_minor": 4
}
